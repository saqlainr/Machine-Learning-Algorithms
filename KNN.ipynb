{
  "nbformat": 4,
  "nbformat_minor": 0,
  "metadata": {
    "colab": {
      "provenance": []
    },
    "kernelspec": {
      "name": "python3",
      "display_name": "Python 3"
    },
    "language_info": {
      "name": "python"
    }
  },
  "cells": [
    {
      "cell_type": "code",
      "execution_count": null,
      "metadata": {
        "colab": {
          "base_uri": "https://localhost:8080/"
        },
        "id": "Lkq74MeNmvae",
        "outputId": "288c8fbf-5323-49e4-eb70-a42bb9bce243"
      },
      "outputs": [
        {
          "output_type": "stream",
          "name": "stdout",
          "text": [
            "Confusion Matrix:\n",
            " [[2 0]\n",
            " [0 2]]\n",
            "Accuracy: 1.0\n"
          ]
        }
      ],
      "source": [
        "# Step 1: Import libraries\n",
        "import pandas as pd\n",
        "import numpy as np\n",
        "import matplotlib.pyplot as plt\n",
        "\n",
        "# Step 2: Create a larger dataset (20 rows)\n",
        "data = {\n",
        "    \"UserID\": list(range(1, 21)),\n",
        "    \"Age\": [22,25,27,30,32,35,37,40,42,45,\n",
        "            48,50,52,55,57,60,62,65,67,70],\n",
        "    \"EstimatedSalary\": [20000,25000,28000,35000,38000,45000,48000,52000,55000,60000,\n",
        "                        65000,70000,72000,75000,78000,80000,85000,90000,95000,100000],\n",
        "    \"Gender\": [\"Male\",\"Female\",\"Female\",\"Male\",\"Male\",\n",
        "               \"Female\",\"Female\",\"Male\",\"Male\",\"Female\",\n",
        "               \"Female\",\"Male\",\"Female\",\"Male\",\"Male\",\n",
        "               \"Female\",\"Female\",\"Male\",\"Male\",\"Female\"],\n",
        "    \"Purchased\": [0,0,0,0,0,1,1,1,1,1,\n",
        "                  1,1,1,1,1,1,1,1,1,1]\n",
        "}\n",
        "\n",
        "df = pd.DataFrame(data)\n",
        "\n",
        "# Step 3: Select features (Age, Salary) and target\n",
        "x = df.iloc[:, 1:3].values   # Age + Salary\n",
        "y = df.iloc[:, -1].values    # Purchased\n",
        "\n",
        "# Step 4: Train/Test split\n",
        "from sklearn.model_selection import train_test_split\n",
        "x_train, x_test, y_train, y_test = train_test_split(\n",
        "    x, y, test_size=0.2, random_state=42\n",
        ")\n",
        "\n",
        "# Step 5: Feature scaling\n",
        "from sklearn.preprocessing import StandardScaler\n",
        "sc = StandardScaler()\n",
        "x_train = sc.fit_transform(x_train)\n",
        "x_test = sc.transform(x_test)\n",
        "\n",
        "# Step 6: Apply KNN\n",
        "from sklearn.neighbors import KNeighborsClassifier\n",
        "classifier = KNeighborsClassifier(n_neighbors=5, metric='minkowski', p=2)\n",
        "classifier.fit(x_train, y_train)\n",
        "\n",
        "# Step 7: Predictions\n",
        "y_pred = classifier.predict(x_test)\n",
        "\n",
        "# Step 8: Accuracy\n",
        "from sklearn.metrics import confusion_matrix, accuracy_score\n",
        "cm = confusion_matrix(y_test, y_pred)\n",
        "acc = accuracy_score(y_test, y_pred)\n",
        "\n",
        "print(\"Confusion Matrix:\\n\", cm)\n",
        "print(\"Accuracy:\", acc)\n"
      ]
    },
    {
      "cell_type": "code",
      "source": [],
      "metadata": {
        "id": "bOkZv0hjm2f0"
      },
      "execution_count": null,
      "outputs": []
    }
  ]
}