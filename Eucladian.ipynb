{
  "nbformat": 4,
  "nbformat_minor": 0,
  "metadata": {
    "colab": {
      "provenance": []
    },
    "kernelspec": {
      "name": "python3",
      "display_name": "Python 3"
    },
    "language_info": {
      "name": "python"
    }
  },
  "cells": [
    {
      "cell_type": "code",
      "execution_count": 2,
      "metadata": {
        "id": "Hou_vTOcDoPN"
      },
      "outputs": [],
      "source": [
        "## calculating the eucladian distance\n",
        "import numpy as np\n",
        "a=np.array([1,2])\n",
        "b=np.array([4,5])"
      ]
    },
    {
      "cell_type": "code",
      "source": [
        "dist = np.linalg.norm(a - b)\n",
        "print(dist)"
      ],
      "metadata": {
        "colab": {
          "base_uri": "https://localhost:8080/"
        },
        "id": "t3e2AtwMEDj1",
        "outputId": "98cb7aa9-2d19-41ca-d12f-96b20bad7b5f"
      },
      "execution_count": 5,
      "outputs": [
        {
          "output_type": "stream",
          "name": "stdout",
          "text": [
            "4.242640687119285\n"
          ]
        }
      ]
    }
  ]
}